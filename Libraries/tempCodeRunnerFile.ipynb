array1 = np.array([1, 2, 3])
array2 = np.array([4, 5, 6])
stacked_vertical = np.vstack((array1, array2))  # Stack arrays vertically
stacked_horizontal = np.hstack((array1, array2))  # Stack arrays horizontally
print("\nVertically Stacked Array:")
print(stacked_vertical)
print("\nHorizontally Stacked Array:")
print(stacked_horizontal)